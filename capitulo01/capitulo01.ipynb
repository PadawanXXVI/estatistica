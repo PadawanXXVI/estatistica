{
 "cells": [
  {
   "cell_type": "markdown",
   "metadata": {},
   "source": [
    "# CAPÍTULO 01\n",
    "\n",
    "## Estimativas de localização\n",
    "\n",
    "\n",
    "### Exemplo 01: estimtivas de localização de população e taxas de homicídio\n"
   ]
  },
  {
   "cell_type": "markdown",
   "metadata": {},
   "source": [
    "1. Criação do DataFrame"
   ]
  },
  {
   "cell_type": "code",
   "execution_count": null,
   "metadata": {},
   "outputs": [],
   "source": [
    "import pandas as pd\n",
    "\n",
    "df = pd.read_csv('../capitulo01/state.csv')\n",
    "\n",
    "df\n"
   ]
  },
  {
   "cell_type": "markdown",
   "metadata": {},
   "source": [
    "1. Média aritmética"
   ]
  },
  {
   "cell_type": "code",
   "execution_count": null,
   "metadata": {},
   "outputs": [],
   "source": [
    "import numpy as np\n",
    "\n",
    "media = np.mean(df['Population'])\n",
    "\n",
    "media"
   ]
  },
  {
   "cell_type": "markdown",
   "metadata": {},
   "source": [
    "2. Média aparada"
   ]
  },
  {
   "cell_type": "code",
   "execution_count": null,
   "metadata": {},
   "outputs": [],
   "source": [
    "from scipy.stats import trim_mean\n",
    "\n",
    "media_aparada = trim_mean(df['Population'],0.1)\n",
    "\n",
    "media_aparada"
   ]
  },
  {
   "cell_type": "markdown",
   "metadata": {},
   "source": [
    "3. Mediana"
   ]
  },
  {
   "cell_type": "code",
   "execution_count": null,
   "metadata": {},
   "outputs": [],
   "source": [
    "mediana = np.median(df['Population'])\n",
    "\n",
    "mediana"
   ]
  },
  {
   "cell_type": "markdown",
   "metadata": {},
   "source": [
    "4. Media ponderada"
   ]
  },
  {
   "cell_type": "code",
   "execution_count": null,
   "metadata": {},
   "outputs": [],
   "source": [
    "media_ponderada = np.average(df['Murder.Rate'], weights=df['Population'])\n",
    "\n",
    "print(media_ponderada)\n"
   ]
  },
  {
   "cell_type": "markdown",
   "metadata": {},
   "source": [
    "5. Mediana ponderada"
   ]
  },
  {
   "cell_type": "code",
   "execution_count": null,
   "metadata": {},
   "outputs": [],
   "source": [
    "# Ordenar os valores\n",
    "indices_ordenados = np.argsort(df['Murder.Rate'])\n",
    "valores_ordenados = np.array(df['Murder.Rate'])[indices_ordenados]\n",
    "pesos_ordenados = np.array(df['Population'])[indices_ordenados]\n",
    "\n",
    "# Calcular a soma acumulada  dos pesos\n",
    "soma_acumulada_pesos = np.cumsum(pesos_ordenados)\n",
    "\n",
    "# Encontrar a posição onde a soma acumulada dos pesos excede a metade da soma total dos pesos\n",
    "metade_soma_pesos = np.sum(df['Population']) / 2\n",
    "mediana_ponderada = valores_ordenados[np.where(soma_acumulada_pesos >= metade_soma_pesos)[0][0]]\n",
    "\n",
    "mediana_ponderada\n"
   ]
  },
  {
   "cell_type": "markdown",
   "metadata": {},
   "source": [
    "## Estimativas de variabilidade\n",
    "\n",
    "### Exemplo 02: estimativas de variabilidade de população estadual\n"
   ]
  },
  {
   "cell_type": "markdown",
   "metadata": {},
   "source": [
    "1. Desvio-padrão"
   ]
  },
  {
   "cell_type": "code",
   "execution_count": 19,
   "metadata": {},
   "outputs": [
    {
     "data": {
      "text/plain": [
       "'O desvio-padrão é 6779407.11'"
      ]
     },
     "metadata": {},
     "output_type": "display_data"
    }
   ],
   "source": [
    "desvio_padrao = np.std(df['Population'])\n",
    "\n",
    "display(f'O desvio-padrão é {desvio_padrao:.2f}')"
   ]
  },
  {
   "cell_type": "markdown",
   "metadata": {},
   "source": [
    "2. IQR (Amplitude)"
   ]
  },
  {
   "cell_type": "code",
   "execution_count": 17,
   "metadata": {},
   "outputs": [
    {
     "data": {
      "text/plain": [
       "'O primeiro quartil é 1833004'"
      ]
     },
     "metadata": {},
     "output_type": "display_data"
    },
    {
     "data": {
      "text/plain": [
       "'O terceiro quartil é 6680312'"
      ]
     },
     "metadata": {},
     "output_type": "display_data"
    },
    {
     "data": {
      "text/plain": [
       "'A amplitude é 4847308'"
      ]
     },
     "metadata": {},
     "output_type": "display_data"
    }
   ],
   "source": [
    "Q1 = np.percentile(df['Population'],25)\n",
    "Q3 = np.percentile(df['Population'],75)\n",
    "\n",
    "display(f'O primeiro quartil é {Q1:.0f}')\n",
    "display(f'O terceiro quartil é {Q3:.0f}')\n",
    "\n",
    "IQR = Q3 - Q1\n",
    "\n",
    "display(f'A amplitude é {IQR:.0f}')"
   ]
  },
  {
   "cell_type": "markdown",
   "metadata": {},
   "source": [
    "3. Desvio absoluto mediano da mediana (MAD)"
   ]
  },
  {
   "cell_type": "code",
   "execution_count": 20,
   "metadata": {},
   "outputs": [
    {
     "data": {
      "text/plain": [
       "0       343366.5\n",
       "1      3726138.5\n",
       "2      1955647.5\n",
       "3      1520451.5\n",
       "4     32817586.5\n",
       "5       592826.5\n",
       "6       862272.5\n",
       "7      3538435.5\n",
       "8     14364940.5\n",
       "9      5251283.5\n",
       "10     3076068.5\n",
       "11     2868787.5\n",
       "12     8394262.5\n",
       "13     2047432.5\n",
       "14     1390014.5\n",
       "15     1583251.5\n",
       "16       97002.5\n",
       "17       97002.5\n",
       "18     3108008.5\n",
       "19     1337182.5\n",
       "20     2111259.5\n",
       "21     5447270.5\n",
       "22      867555.5\n",
       "23     1469072.5\n",
       "24     1552557.5\n",
       "25     3446954.5\n",
       "26     2610028.5\n",
       "27     1735818.5\n",
       "28     3119899.5\n",
       "29     4355524.5\n",
       "30     2377190.5\n",
       "31    14941732.5\n",
       "32     5099113.5\n",
       "33     3763778.5\n",
       "34     7100134.5\n",
       "35      685018.5\n",
       "36      605295.5\n",
       "37     8266009.5\n",
       "38     3383802.5\n",
       "39      188994.5\n",
       "40     3622189.5\n",
       "41     1909735.5\n",
       "42    20709191.5\n",
       "43     1672484.5\n",
       "44     3810628.5\n",
       "45     3564654.5\n",
       "46     2288170.5\n",
       "47     2583375.5\n",
       "48     1250616.5\n",
       "49     3872743.5\n",
       "Name: Population, dtype: float64"
      ]
     },
     "metadata": {},
     "output_type": "display_data"
    },
    {
     "data": {
      "text/plain": [
       "np.float64(2596702.0)"
      ]
     },
     "execution_count": 20,
     "metadata": {},
     "output_type": "execute_result"
    }
   ],
   "source": [
    "# Calcular os desvios absolutos em relação à mediana\n",
    "\n",
    "desvios_absolutos = np.abs(df['Population'] -  mediana)\n",
    "\n",
    "display(desvios_absolutos)\n",
    "\n",
    "# Calcular a MAD\n",
    "mad = np.median(desvios_absolutos)\n",
    "\n",
    "mad"
   ]
  },
  {
   "cell_type": "markdown",
   "metadata": {},
   "source": [
    "## Explorando a distribuição de dados\n",
    "\n",
    "### Exibindo percentis"
   ]
  },
  {
   "cell_type": "code",
   "execution_count": null,
   "metadata": {},
   "outputs": [],
   "source": [
    "dados_percentis = {\n",
    "    '5%': [np.percentile(df['Murder.Rate'], 5)],\n",
    "    '25%': [np.percentile(df['Murder.Rate'], 25)],\n",
    "    '50%': [np.percentile(df['Murder.Rate'], 50)],\n",
    "    '75%': [np.percentile(df['Murder.Rate'], 75)],\n",
    "    '95%': [np.percentile(df['Murder.Rate'], 95)]\n",
    "}\n",
    "percentis = pd.DataFrame(dados_percentis)\n",
    "\n",
    "percentis"
   ]
  },
  {
   "cell_type": "markdown",
   "metadata": {},
   "source": [
    "### Gráfico de caixa (Boxplot)\n"
   ]
  },
  {
   "cell_type": "code",
   "execution_count": null,
   "metadata": {},
   "outputs": [],
   "source": [
    "import matplotlib.pyplot as plt\n",
    "\n",
    "# Criando o boxplot\n",
    "plt.boxplot(df['Population']/1000000)\n",
    "\n",
    "# Adcionando título e rótulo\n",
    "plt.title('Boxplot de populações por estado')\n",
    "plt.ylabel('População (em milhões)')\n",
    "\n",
    "plt.show()"
   ]
  }
 ],
 "metadata": {
  "kernelspec": {
   "display_name": "venv",
   "language": "python",
   "name": "python3"
  },
  "language_info": {
   "codemirror_mode": {
    "name": "ipython",
    "version": 3
   },
   "file_extension": ".py",
   "mimetype": "text/x-python",
   "name": "python",
   "nbconvert_exporter": "python",
   "pygments_lexer": "ipython3",
   "version": "3.12.8"
  }
 },
 "nbformat": 4,
 "nbformat_minor": 2
}
