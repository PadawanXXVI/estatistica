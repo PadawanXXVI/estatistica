{
 "cells": [
  {
   "cell_type": "markdown",
   "metadata": {},
   "source": [
    "# CAPÍTULO 01\n",
    "\n",
    "## Estimativas de localização\n",
    "\n",
    "\n",
    "### Exemplo 01: estimtivas de localização de população e taxas de homicídio\n"
   ]
  },
  {
   "cell_type": "markdown",
   "metadata": {},
   "source": [
    "1. Criação do DataFrame"
   ]
  },
  {
   "cell_type": "code",
   "execution_count": null,
   "metadata": {},
   "outputs": [],
   "source": [
    "import pandas as pd\n",
    "\n",
    "df = pd.read_csv('../capitulo01/state.csv')\n",
    "\n",
    "df\n"
   ]
  },
  {
   "cell_type": "markdown",
   "metadata": {},
   "source": [
    "1. Média aritmética"
   ]
  },
  {
   "cell_type": "code",
   "execution_count": null,
   "metadata": {},
   "outputs": [],
   "source": [
    "import numpy as np\n",
    "\n",
    "media = np.mean(df['Population'])\n",
    "\n",
    "media"
   ]
  },
  {
   "cell_type": "markdown",
   "metadata": {},
   "source": [
    "2. Média aparada"
   ]
  },
  {
   "cell_type": "code",
   "execution_count": null,
   "metadata": {},
   "outputs": [],
   "source": [
    "from scipy.stats import trim_mean\n",
    "\n",
    "media_aparada = trim_mean(df['Population'],0.1)\n",
    "\n",
    "media_aparada"
   ]
  },
  {
   "cell_type": "markdown",
   "metadata": {},
   "source": [
    "3. Mediana"
   ]
  },
  {
   "cell_type": "code",
   "execution_count": null,
   "metadata": {},
   "outputs": [],
   "source": [
    "mediana = np.median(df['Population'])\n",
    "\n",
    "mediana"
   ]
  },
  {
   "cell_type": "markdown",
   "metadata": {},
   "source": [
    "4. Media ponderada"
   ]
  },
  {
   "cell_type": "code",
   "execution_count": null,
   "metadata": {},
   "outputs": [],
   "source": [
    "media_ponderada = np.average(df['Murder.Rate'], weights=df['Population'])\n",
    "\n",
    "print(media_ponderada)\n"
   ]
  },
  {
   "cell_type": "markdown",
   "metadata": {},
   "source": [
    "5. Mediana ponderada"
   ]
  },
  {
   "cell_type": "code",
   "execution_count": null,
   "metadata": {},
   "outputs": [],
   "source": [
    "# Ordenar os valores\n",
    "indices_ordenados = np.argsort(df['Murder.Rate'])\n",
    "valores_ordenados = np.array(df['Murder.Rate'])[indices_ordenados]\n",
    "pesos_ordenados = np.array(df['Population'])[indices_ordenados]\n",
    "\n",
    "# Calcular a soma acumulada  dos pesos\n",
    "soma_acumulada_pesos = np.cumsum(pesos_ordenados)\n",
    "\n",
    "# Encontrar a posição onde a soma acumulada dos pesos excede a metade da soma total dos pesos\n",
    "metade_soma_pesos = np.sum(df['Population']) / 2\n",
    "mediana_ponderada = valores_ordenados[np.where(soma_acumulada_pesos >= metade_soma_pesos)[0][0]]\n",
    "\n",
    "mediana_ponderada\n"
   ]
  },
  {
   "cell_type": "markdown",
   "metadata": {},
   "source": [
    "## Estimativas de variabilidade\n",
    "\n",
    "### Exemplo 02: estimativas de variabilidade de população estadual\n"
   ]
  },
  {
   "cell_type": "markdown",
   "metadata": {},
   "source": [
    "1. Desvio-padrão"
   ]
  },
  {
   "cell_type": "code",
   "execution_count": null,
   "metadata": {},
   "outputs": [],
   "source": [
    "desvio_padrao = np.std(df['Population'])\n",
    "\n",
    "display(f'O desvio-padrão é {desvio_padrao:.2f}')"
   ]
  },
  {
   "cell_type": "markdown",
   "metadata": {},
   "source": [
    "2. IQR (Amplitude)"
   ]
  },
  {
   "cell_type": "code",
   "execution_count": null,
   "metadata": {},
   "outputs": [],
   "source": [
    "Q1 = np.percentile(df['Population'],25)\n",
    "Q3 = np.percentile(df['Population'],75)\n",
    "\n",
    "display(f'O primeiro quartil é {Q1:.0f}')\n",
    "display(f'O terceiro quartil é {Q3:.0f}')\n",
    "\n",
    "IQR = Q3 - Q1\n",
    "\n",
    "display(f'A amplitude é {IQR:.0f}')"
   ]
  },
  {
   "cell_type": "markdown",
   "metadata": {},
   "source": [
    "3. Desvio absoluto mediano da mediana (MAD)"
   ]
  },
  {
   "cell_type": "code",
   "execution_count": null,
   "metadata": {},
   "outputs": [],
   "source": [
    "# Calcular os desvios absolutos em relação à mediana\n",
    "\n",
    "desvios_absolutos = np.abs(df['Population'] -  mediana)\n",
    "\n",
    "display(desvios_absolutos)\n",
    "\n",
    "# Calcular a MAD\n",
    "mad = np.median(desvios_absolutos)\n",
    "\n",
    "mad"
   ]
  },
  {
   "cell_type": "markdown",
   "metadata": {},
   "source": [
    "## Explorando a distribuição de dados\n",
    "\n",
    "### Exibindo percentis"
   ]
  },
  {
   "cell_type": "code",
   "execution_count": null,
   "metadata": {},
   "outputs": [],
   "source": [
    "dados_percentis = {\n",
    "    '5%': [np.percentile(df['Murder.Rate'], 5)],\n",
    "    '25%': [np.percentile(df['Murder.Rate'], 25)],\n",
    "    '50%': [np.percentile(df['Murder.Rate'], 50)],\n",
    "    '75%': [np.percentile(df['Murder.Rate'], 75)],\n",
    "    '95%': [np.percentile(df['Murder.Rate'], 95)]\n",
    "}\n",
    "percentis = pd.DataFrame(dados_percentis)\n",
    "\n",
    "percentis"
   ]
  },
  {
   "cell_type": "markdown",
   "metadata": {},
   "source": [
    "### Gráfico de caixa (Boxplot)\n"
   ]
  },
  {
   "cell_type": "code",
   "execution_count": null,
   "metadata": {},
   "outputs": [],
   "source": [
    "import matplotlib.pyplot as plt\n",
    "\n",
    "# Criando o boxplot\n",
    "plt.boxplot(df['Population']/1000000)\n",
    "\n",
    "# Adcionando título e rótulo\n",
    "plt.title('Boxplot de populações por estado')\n",
    "plt.ylabel('População (em milhões)')\n",
    "\n",
    "plt.show()"
   ]
  }
 ],
 "metadata": {
  "kernelspec": {
   "display_name": "Python 3",
   "language": "python",
   "name": "python3"
  },
  "language_info": {
   "codemirror_mode": {
    "name": "ipython",
    "version": 3
   },
   "file_extension": ".py",
   "mimetype": "text/x-python",
   "name": "python",
   "nbconvert_exporter": "python",
   "pygments_lexer": "ipython3",
   "version": "3.13.1"
  }
 },
 "nbformat": 4,
 "nbformat_minor": 2
}
